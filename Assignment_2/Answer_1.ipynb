{
 "cells": [
  {
   "cell_type": "code",
   "execution_count": 1,
   "id": "2cef65a1",
   "metadata": {},
   "outputs": [],
   "source": [
    "#importing useful modules\n",
    "import pickle, math, pandas as pd\n",
    "from gensim.test.utils import common_texts\n",
    "from gensim.models import Word2Vec\n",
    "import numpy as np \n",
    "from numpy.linalg import norm"
   ]
  },
  {
   "cell_type": "code",
   "execution_count": 2,
   "id": "1835a3a0",
   "metadata": {},
   "outputs": [],
   "source": [
    "# dimen = [50, 100, 200, 300]\n",
    "# mod_name = ['cbow', 'fasttext', 'glove', 'sg']\n",
    "#storing dimensions and model names\n",
    "dimen = [50, 100]\n",
    "mod_name = ['cbow']"
   ]
  },
  {
   "cell_type": "code",
   "execution_count": 3,
   "id": "309ec3e8",
   "metadata": {},
   "outputs": [],
   "source": [
    "#glove_mod_creation creates the glove model since there are only text files.\n",
    "#run this only once to create glove models\n",
    "# def glove_mod_creation(dimen, mod_name):\n",
    "#     path = 'dataset\\\\hi'+'\\\\' +str(dimen)+'\\\\'+str(mod_name)+'\\\\hi-d'+str(dimen)+'-m2-'+str(mod_name)+'.txt'\n",
    "#     mod_path = 'dataset\\\\hi'+'\\\\' +str(dimen)+'\\\\glove\\\\hi-d'+str(dimen)+'-m2-'+str(mod_name)+'.model'\n",
    "#     file = open(path, 'r', encoding = 'utf8', errors = 'replace')\n",
    "#     model_dict = {}\n",
    "#     i = 1\n",
    "#     while True:\n",
    "#         line = file.readline()\n",
    "#         if not line:\n",
    "#             break\n",
    "#         lineval = line.split()\n",
    "#         model_dict[lineval[0]] = [float(lineval[i]) for i in range(1, len(lineval))]           \n",
    "#     with open(mod_path, 'wb') as f:\n",
    "#         pickle.dump(model_dict, f)\n",
    "\n",
    "# for d_val in dimen:\n",
    "#     for m_name in mod_name:\n",
    "#         if m_name == 'glove':\n",
    "#             glove_mod_creation(d_val, m_name)"
   ]
  },
  {
   "cell_type": "code",
   "execution_count": 4,
   "id": "1e226362",
   "metadata": {},
   "outputs": [],
   "source": [
    "#given ground truth and threshold*10\n",
    "ground_truth = [6.8,7.0,7.6,7.6,8.0,6.0,6.2,7.6,6.4,5.8,6.6,5.8,7.6,4.6,7.0,5.2,6.2,7.6,8.0,7.0,0.0,8.2,7.0,7.8,\n",
    "                1.0,7.8,9.0,6.4,5.8,7.4,7.8,6.6,6.6,8.4,1.4,0.4,7.0,7.2,1.8,6.8,8.4,6.6,7.4,1.4,6.2,0.2,2.0,8.6,\n",
    "                9.2,8.4,8.2,6.6,2.6,8.0,7.6,6.8,6.2,5.2,7.0,6.4,7.0,7.4,6.2,7.0,4.2]\n",
    "threshold = [4, 5, 6, 7, 8]"
   ]
  },
  {
   "cell_type": "code",
   "execution_count": 5,
   "id": "d104ecfa",
   "metadata": {},
   "outputs": [],
   "source": [
    "#function to calculate cosine similarity\n",
    "def dot(v1, v2):\n",
    "    ans = 0.0\n",
    "    for i in range(len(v1)):\n",
    "        ans += v1[i]*v2[i]\n",
    "    return ans\n",
    "\n",
    "def norm(v1):\n",
    "    ans = 0.0\n",
    "    for val in v1:\n",
    "        ans += val**2\n",
    "    return math.sqrt(ans)\n",
    "\n",
    "def cos_sim(vec1, vec2):\n",
    "    return (dot(vec1, vec2)/(norm(vec1)*norm(vec2)))*10"
   ]
  },
  {
   "cell_type": "code",
   "execution_count": 6,
   "id": "80df2f40",
   "metadata": {},
   "outputs": [],
   "source": [
    "#creating_vec function takes one model and returns bit vector for hindi similarity dataset word pairs\n",
    "def creating_vec(model, mod_name, threshold):\n",
    "    vec = []\n",
    "    path = 'dataset\\\\Wordsimilarity_datasets\\\\iiith_wordsim\\\\hindi.txt'\n",
    "    word_sim = open(path, 'r', encoding = 'utf8')\n",
    "    lines = word_sim.readlines()\n",
    "    for line in lines:\n",
    "        words = line.split(',')\n",
    "        if mod_name != 'glove':\n",
    "            vec1 = model.wv[words[0]]\n",
    "            vec2 = model.wv[words[1]]\n",
    "        else:\n",
    "            vec1 = model[words[0]]\n",
    "            vec2 = model[words[1]]\n",
    "        cosine = cos_sim(vec1, vec2)\n",
    "        if cosine >= threshold:\n",
    "            vec.append(1)\n",
    "        else:\n",
    "            vec.append(0)\n",
    "    return vec"
   ]
  },
  {
   "cell_type": "code",
   "execution_count": 7,
   "id": "21bcf2b6",
   "metadata": {},
   "outputs": [],
   "source": [
    "#process function helps to load the model in RAM\n",
    "def process(dimen, mod_name):\n",
    "    path = 'dataset\\\\hi'+'\\\\' +str(dimen)+'\\\\'+str(mod_name)+'\\\\hi-d'+str(dimen)+'-m2-'+str(mod_name)+'.model'\n",
    "    if mod_name != 'glove': \n",
    "        mod_load = Word2Vec.load(path)\n",
    "        return mod_load\n",
    "    else:\n",
    "        with open(path, 'rb') as f:\n",
    "            mod_load = pickle.load(f)\n",
    "        return mod_load"
   ]
  },
  {
   "cell_type": "code",
   "execution_count": 8,
   "id": "bf45e115",
   "metadata": {},
   "outputs": [],
   "source": [
    "#truth_vec function returns bit vector according to the threshold value\n",
    "def truth_vec(thres, truth_val):\n",
    "    vecc = []\n",
    "    for item in truth_val:\n",
    "        if item >= thres:\n",
    "            vecc.append(1)\n",
    "        else:\n",
    "            vecc.append(0)\n",
    "    return vecc"
   ]
  },
  {
   "cell_type": "code",
   "execution_count": 9,
   "id": "7e34ad2f",
   "metadata": {},
   "outputs": [],
   "source": [
    "#dfcreation function creates dataframe and returns it as mentioned in forum\n",
    "def dfcreation(model, mod_name, accuracy, threshold):\n",
    "    df = pd.DataFrame(columns=['Word1', 'Word2', 'similarity_score', 'ground_truth_similarity', 'label'])\n",
    "    path = 'dataset\\\\Wordsimilarity_datasets\\\\iiith_wordsim\\\\hindi.txt'\n",
    "    word_sim = open(path, 'r', encoding = 'utf8')\n",
    "    lines = word_sim.readlines()\n",
    "    for words in lines:\n",
    "        splitwords = words.split(',')\n",
    "        c_score = cosine(model, mod_name, splitwords[0], splitwords[1])\n",
    "        df.loc[len(df.index)] = [splitwords[0], splitwords[1], c_score, float(splitwords[2]), 1 if c_score >= threshold else 0]\n",
    "    df.loc[len(df.index)] = ['Total Accuracy --> '+str(accuracy), '', '', '', '']\n",
    "    return df\n"
   ]
  },
  {
   "cell_type": "code",
   "execution_count": 10,
   "id": "461a5e08",
   "metadata": {},
   "outputs": [],
   "source": [
    "#cosine function calculates cosine score between two words wrt given model\n",
    "def cosine(model, mod_name, word1, word2):\n",
    "    if mod_name != 'glove':\n",
    "        vec1 = model.wv[word1]\n",
    "        vec2 = model.wv[word2]\n",
    "    else:\n",
    "        vec1 = model[word1]\n",
    "        vec2 = model[word2]\n",
    "    return cos_sim(vec1, vec2)"
   ]
  },
  {
   "cell_type": "code",
   "execution_count": 11,
   "id": "ee488ae2",
   "metadata": {},
   "outputs": [
    {
     "name": "stdout",
     "output_type": "stream",
     "text": [
      "Accuracy calculated successfully for dimension 50 , model  cbow and threshold  4\n",
      "Accuracy calculated successfully for dimension 50 , model  cbow and threshold  5\n",
      "Accuracy calculated successfully for dimension 50 , model  cbow and threshold  6\n",
      "Accuracy calculated successfully for dimension 50 , model  cbow and threshold  7\n",
      "Accuracy calculated successfully for dimension 50 , model  cbow and threshold  8\n",
      "Accuracy calculated successfully for dimension 100 , model  cbow and threshold  4\n",
      "Accuracy calculated successfully for dimension 100 , model  cbow and threshold  5\n",
      "Accuracy calculated successfully for dimension 100 , model  cbow and threshold  6\n",
      "Accuracy calculated successfully for dimension 100 , model  cbow and threshold  7\n",
      "Accuracy calculated successfully for dimension 100 , model  cbow and threshold  8\n"
     ]
    }
   ],
   "source": [
    "#main program which calls each function and calculate the result\n",
    "for d_val in dimen:\n",
    "    for m_name in mod_name:\n",
    "        model = process(d_val, m_name)\n",
    "        accuracy = 0.0\n",
    "        for thres in threshold:\n",
    "            vect = creating_vec(model, m_name, thres)\n",
    "            truth_val = truth_vec(thres, ground_truth)\n",
    "            result = list(a^b for a,b in zip(vect, truth_val))\n",
    "            accuracy = ((65-sum(result))/65)*100\n",
    "            dataf = dfcreation(model, m_name, accuracy, thres)\n",
    "            dataf.to_csv('Answer_1_output\\\\Q1_'+str(d_val)+'_'+str(m_name)+'_similarity_'+str(thres)+'.csv', index=False)\n",
    "            print('Accuracy calculated successfully for dimension', d_val, ', model ', m_name, 'and threshold ', thres)\n"
   ]
  },
  {
   "cell_type": "code",
   "execution_count": null,
   "id": "48951c4a",
   "metadata": {},
   "outputs": [],
   "source": []
  }
 ],
 "metadata": {
  "kernelspec": {
   "display_name": "Python 3 (ipykernel)",
   "language": "python",
   "name": "python3"
  },
  "language_info": {
   "codemirror_mode": {
    "name": "ipython",
    "version": 3
   },
   "file_extension": ".py",
   "mimetype": "text/x-python",
   "name": "python",
   "nbconvert_exporter": "python",
   "pygments_lexer": "ipython3",
   "version": "3.9.7"
  }
 },
 "nbformat": 4,
 "nbformat_minor": 5
}
